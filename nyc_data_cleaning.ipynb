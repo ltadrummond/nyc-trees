{
 "cells": [
  {
   "cell_type": "code",
   "execution_count": 181,
   "id": "6fb6384f",
   "metadata": {},
   "outputs": [],
   "source": [
    "#importing libaries and the data frame\n",
    "import pandas as pd\n",
    "import numpy as np\n",
    "import seaborn as sns\n",
    "df = pd.read_csv('data_100000.csv')"
   ]
  },
  {
   "cell_type": "code",
   "execution_count": 7,
   "id": "bed58e4f",
   "metadata": {},
   "outputs": [
    {
     "data": {
      "text/html": [
       "<div>\n",
       "<style scoped>\n",
       "    .dataframe tbody tr th:only-of-type {\n",
       "        vertical-align: middle;\n",
       "    }\n",
       "\n",
       "    .dataframe tbody tr th {\n",
       "        vertical-align: top;\n",
       "    }\n",
       "\n",
       "    .dataframe thead th {\n",
       "        text-align: right;\n",
       "    }\n",
       "</style>\n",
       "<table border=\"1\" class=\"dataframe\">\n",
       "  <thead>\n",
       "    <tr style=\"text-align: right;\">\n",
       "      <th></th>\n",
       "      <th>created_at</th>\n",
       "      <th>tree_id</th>\n",
       "      <th>block_id</th>\n",
       "      <th>the_geom</th>\n",
       "      <th>tree_dbh</th>\n",
       "      <th>stump_diam</th>\n",
       "      <th>curb_loc</th>\n",
       "      <th>status</th>\n",
       "      <th>health</th>\n",
       "      <th>spc_latin</th>\n",
       "      <th>...</th>\n",
       "      <th>st_assem</th>\n",
       "      <th>st_senate</th>\n",
       "      <th>nta</th>\n",
       "      <th>nta_name</th>\n",
       "      <th>boro_ct</th>\n",
       "      <th>state</th>\n",
       "      <th>latitude</th>\n",
       "      <th>longitude</th>\n",
       "      <th>x_sp</th>\n",
       "      <th>y_sp</th>\n",
       "    </tr>\n",
       "  </thead>\n",
       "  <tbody>\n",
       "    <tr>\n",
       "      <th>99995</th>\n",
       "      <td>10/08/2015</td>\n",
       "      <td>299309</td>\n",
       "      <td>409877</td>\n",
       "      <td>POINT (-74.2476220025519 40.50285270258401)</td>\n",
       "      <td>7</td>\n",
       "      <td>0</td>\n",
       "      <td>OnCurb</td>\n",
       "      <td>Alive</td>\n",
       "      <td>Fair</td>\n",
       "      <td>Pyrus calleryana</td>\n",
       "      <td>...</td>\n",
       "      <td>62</td>\n",
       "      <td>24</td>\n",
       "      <td>SI11</td>\n",
       "      <td>Charleston-Richmond Valley-Tottenville</td>\n",
       "      <td>5024402</td>\n",
       "      <td>New York</td>\n",
       "      <td>40.502853</td>\n",
       "      <td>-74.247622</td>\n",
       "      <td>9.153862e+05</td>\n",
       "      <td>122576.815592</td>\n",
       "    </tr>\n",
       "    <tr>\n",
       "      <th>99996</th>\n",
       "      <td>10/08/2015</td>\n",
       "      <td>299310</td>\n",
       "      <td>409877</td>\n",
       "      <td>POINT (-74.24760188461457 40.50279600610096)</td>\n",
       "      <td>7</td>\n",
       "      <td>0</td>\n",
       "      <td>OnCurb</td>\n",
       "      <td>Alive</td>\n",
       "      <td>Good</td>\n",
       "      <td>Pyrus calleryana</td>\n",
       "      <td>...</td>\n",
       "      <td>62</td>\n",
       "      <td>24</td>\n",
       "      <td>SI11</td>\n",
       "      <td>Charleston-Richmond Valley-Tottenville</td>\n",
       "      <td>5024402</td>\n",
       "      <td>New York</td>\n",
       "      <td>40.502796</td>\n",
       "      <td>-74.247602</td>\n",
       "      <td>9.153918e+05</td>\n",
       "      <td>122556.144045</td>\n",
       "    </tr>\n",
       "    <tr>\n",
       "      <th>99997</th>\n",
       "      <td>10/10/2015</td>\n",
       "      <td>307148</td>\n",
       "      <td>323051</td>\n",
       "      <td>POINT (-73.7512941078738 40.777061235064345)</td>\n",
       "      <td>3</td>\n",
       "      <td>0</td>\n",
       "      <td>OnCurb</td>\n",
       "      <td>Alive</td>\n",
       "      <td>Good</td>\n",
       "      <td>Pyrus calleryana</td>\n",
       "      <td>...</td>\n",
       "      <td>26</td>\n",
       "      <td>11</td>\n",
       "      <td>QN45</td>\n",
       "      <td>Douglas Manor-Douglaston-Little Neck</td>\n",
       "      <td>4148300</td>\n",
       "      <td>New York</td>\n",
       "      <td>40.777061</td>\n",
       "      <td>-73.751294</td>\n",
       "      <td>1.053132e+06</td>\n",
       "      <td>222478.970118</td>\n",
       "    </tr>\n",
       "    <tr>\n",
       "      <th>99998</th>\n",
       "      <td>10/08/2015</td>\n",
       "      <td>297724</td>\n",
       "      <td>415760</td>\n",
       "      <td>POINT (-74.14599626668874 40.55119304411556)</td>\n",
       "      <td>5</td>\n",
       "      <td>0</td>\n",
       "      <td>OnCurb</td>\n",
       "      <td>Alive</td>\n",
       "      <td>Good</td>\n",
       "      <td>Pyrus calleryana</td>\n",
       "      <td>...</td>\n",
       "      <td>64</td>\n",
       "      <td>24</td>\n",
       "      <td>SI54</td>\n",
       "      <td>Great Kills</td>\n",
       "      <td>5013203</td>\n",
       "      <td>New York</td>\n",
       "      <td>40.551193</td>\n",
       "      <td>-74.145996</td>\n",
       "      <td>9.436777e+05</td>\n",
       "      <td>140124.806743</td>\n",
       "    </tr>\n",
       "    <tr>\n",
       "      <th>99999</th>\n",
       "      <td>10/02/2015</td>\n",
       "      <td>277768</td>\n",
       "      <td>100613</td>\n",
       "      <td>POINT (-74.01358936114298 40.717426536991724)</td>\n",
       "      <td>8</td>\n",
       "      <td>0</td>\n",
       "      <td>OnCurb</td>\n",
       "      <td>Alive</td>\n",
       "      <td>Good</td>\n",
       "      <td>Pyrus calleryana</td>\n",
       "      <td>...</td>\n",
       "      <td>66</td>\n",
       "      <td>26</td>\n",
       "      <td>MN25</td>\n",
       "      <td>Battery Park City-Lower Manhattan</td>\n",
       "      <td>1031703</td>\n",
       "      <td>New York</td>\n",
       "      <td>40.717427</td>\n",
       "      <td>-74.013589</td>\n",
       "      <td>9.804829e+05</td>\n",
       "      <td>200654.644016</td>\n",
       "    </tr>\n",
       "  </tbody>\n",
       "</table>\n",
       "<p>5 rows × 42 columns</p>\n",
       "</div>"
      ],
      "text/plain": [
       "       created_at  tree_id  block_id  \\\n",
       "99995  10/08/2015   299309    409877   \n",
       "99996  10/08/2015   299310    409877   \n",
       "99997  10/10/2015   307148    323051   \n",
       "99998  10/08/2015   297724    415760   \n",
       "99999  10/02/2015   277768    100613   \n",
       "\n",
       "                                            the_geom  tree_dbh  stump_diam  \\\n",
       "99995    POINT (-74.2476220025519 40.50285270258401)         7           0   \n",
       "99996   POINT (-74.24760188461457 40.50279600610096)         7           0   \n",
       "99997   POINT (-73.7512941078738 40.777061235064345)         3           0   \n",
       "99998   POINT (-74.14599626668874 40.55119304411556)         5           0   \n",
       "99999  POINT (-74.01358936114298 40.717426536991724)         8           0   \n",
       "\n",
       "      curb_loc status health         spc_latin  ... st_assem st_senate   nta  \\\n",
       "99995   OnCurb  Alive   Fair  Pyrus calleryana  ...       62        24  SI11   \n",
       "99996   OnCurb  Alive   Good  Pyrus calleryana  ...       62        24  SI11   \n",
       "99997   OnCurb  Alive   Good  Pyrus calleryana  ...       26        11  QN45   \n",
       "99998   OnCurb  Alive   Good  Pyrus calleryana  ...       64        24  SI54   \n",
       "99999   OnCurb  Alive   Good  Pyrus calleryana  ...       66        26  MN25   \n",
       "\n",
       "                                     nta_name  boro_ct     state   latitude  \\\n",
       "99995  Charleston-Richmond Valley-Tottenville  5024402  New York  40.502853   \n",
       "99996  Charleston-Richmond Valley-Tottenville  5024402  New York  40.502796   \n",
       "99997    Douglas Manor-Douglaston-Little Neck  4148300  New York  40.777061   \n",
       "99998                             Great Kills  5013203  New York  40.551193   \n",
       "99999       Battery Park City-Lower Manhattan  1031703  New York  40.717427   \n",
       "\n",
       "       longitude          x_sp           y_sp  \n",
       "99995 -74.247622  9.153862e+05  122576.815592  \n",
       "99996 -74.247602  9.153918e+05  122556.144045  \n",
       "99997 -73.751294  1.053132e+06  222478.970118  \n",
       "99998 -74.145996  9.436777e+05  140124.806743  \n",
       "99999 -74.013589  9.804829e+05  200654.644016  \n",
       "\n",
       "[5 rows x 42 columns]"
      ]
     },
     "execution_count": 7,
     "metadata": {},
     "output_type": "execute_result"
    }
   ],
   "source": [
    "#checking if the data frame is readable\n",
    "df.head()\n",
    "df.tail()"
   ]
  },
  {
   "cell_type": "code",
   "execution_count": 8,
   "id": "edb983d9",
   "metadata": {},
   "outputs": [
    {
     "data": {
      "text/plain": [
       "(100000, 42)"
      ]
     },
     "execution_count": 8,
     "metadata": {},
     "output_type": "execute_result"
    }
   ],
   "source": [
    "#Checking how many rows and columns\n",
    "#We have 10000 rows and 42 columns\n",
    "df.shape"
   ]
  },
  {
   "cell_type": "code",
   "execution_count": 184,
   "id": "4d2732b2",
   "metadata": {},
   "outputs": [
    {
     "data": {
      "text/html": [
       "<div>\n",
       "<style scoped>\n",
       "    .dataframe tbody tr th:only-of-type {\n",
       "        vertical-align: middle;\n",
       "    }\n",
       "\n",
       "    .dataframe tbody tr th {\n",
       "        vertical-align: top;\n",
       "    }\n",
       "\n",
       "    .dataframe thead th {\n",
       "        text-align: right;\n",
       "    }\n",
       "</style>\n",
       "<table border=\"1\" class=\"dataframe\">\n",
       "  <thead>\n",
       "    <tr style=\"text-align: right;\">\n",
       "      <th></th>\n",
       "      <th>created_at</th>\n",
       "      <th>tree_id</th>\n",
       "      <th>block_id</th>\n",
       "      <th>the_geom</th>\n",
       "      <th>tree_dbh</th>\n",
       "      <th>stump_diam</th>\n",
       "      <th>curb_loc</th>\n",
       "      <th>status</th>\n",
       "      <th>health</th>\n",
       "      <th>spc_latin</th>\n",
       "      <th>...</th>\n",
       "      <th>st_assem</th>\n",
       "      <th>st_senate</th>\n",
       "      <th>nta</th>\n",
       "      <th>nta_name</th>\n",
       "      <th>boro_ct</th>\n",
       "      <th>state</th>\n",
       "      <th>latitude</th>\n",
       "      <th>longitude</th>\n",
       "      <th>x_sp</th>\n",
       "      <th>y_sp</th>\n",
       "    </tr>\n",
       "  </thead>\n",
       "  <tbody>\n",
       "    <tr>\n",
       "      <th>0</th>\n",
       "      <td>08/27/2015</td>\n",
       "      <td>180683</td>\n",
       "      <td>348711</td>\n",
       "      <td>POINT (-73.84421521958048 40.723091773924274)</td>\n",
       "      <td>3</td>\n",
       "      <td>0</td>\n",
       "      <td>OnCurb</td>\n",
       "      <td>Alive</td>\n",
       "      <td>Fair</td>\n",
       "      <td>Acer rubrum</td>\n",
       "      <td>...</td>\n",
       "      <td>28</td>\n",
       "      <td>16</td>\n",
       "      <td>QN17</td>\n",
       "      <td>Forest Hills</td>\n",
       "      <td>4073900</td>\n",
       "      <td>New York</td>\n",
       "      <td>40.723092</td>\n",
       "      <td>-73.844215</td>\n",
       "      <td>1.027431e+06</td>\n",
       "      <td>202756.768749</td>\n",
       "    </tr>\n",
       "    <tr>\n",
       "      <th>1</th>\n",
       "      <td>09/03/2015</td>\n",
       "      <td>200540</td>\n",
       "      <td>315986</td>\n",
       "      <td>POINT (-73.81867945834878 40.79411066708779)</td>\n",
       "      <td>21</td>\n",
       "      <td>0</td>\n",
       "      <td>OnCurb</td>\n",
       "      <td>Alive</td>\n",
       "      <td>Fair</td>\n",
       "      <td>Quercus palustris</td>\n",
       "      <td>...</td>\n",
       "      <td>27</td>\n",
       "      <td>11</td>\n",
       "      <td>QN49</td>\n",
       "      <td>Whitestone</td>\n",
       "      <td>4097300</td>\n",
       "      <td>New York</td>\n",
       "      <td>40.794111</td>\n",
       "      <td>-73.818679</td>\n",
       "      <td>1.034456e+06</td>\n",
       "      <td>228644.837379</td>\n",
       "    </tr>\n",
       "    <tr>\n",
       "      <th>2</th>\n",
       "      <td>09/05/2015</td>\n",
       "      <td>204026</td>\n",
       "      <td>218365</td>\n",
       "      <td>POINT (-73.93660770459083 40.717580740099116)</td>\n",
       "      <td>3</td>\n",
       "      <td>0</td>\n",
       "      <td>OnCurb</td>\n",
       "      <td>Alive</td>\n",
       "      <td>Good</td>\n",
       "      <td>Gleditsia triacanthos var. inermis</td>\n",
       "      <td>...</td>\n",
       "      <td>50</td>\n",
       "      <td>18</td>\n",
       "      <td>BK90</td>\n",
       "      <td>East Williamsburg</td>\n",
       "      <td>3044900</td>\n",
       "      <td>New York</td>\n",
       "      <td>40.717581</td>\n",
       "      <td>-73.936608</td>\n",
       "      <td>1.001823e+06</td>\n",
       "      <td>200716.891267</td>\n",
       "    </tr>\n",
       "    <tr>\n",
       "      <th>3</th>\n",
       "      <td>09/05/2015</td>\n",
       "      <td>204337</td>\n",
       "      <td>217969</td>\n",
       "      <td>POINT (-73.93445615919741 40.713537494833226)</td>\n",
       "      <td>10</td>\n",
       "      <td>0</td>\n",
       "      <td>OnCurb</td>\n",
       "      <td>Alive</td>\n",
       "      <td>Good</td>\n",
       "      <td>Gleditsia triacanthos var. inermis</td>\n",
       "      <td>...</td>\n",
       "      <td>53</td>\n",
       "      <td>18</td>\n",
       "      <td>BK90</td>\n",
       "      <td>East Williamsburg</td>\n",
       "      <td>3044900</td>\n",
       "      <td>New York</td>\n",
       "      <td>40.713537</td>\n",
       "      <td>-73.934456</td>\n",
       "      <td>1.002420e+06</td>\n",
       "      <td>199244.253136</td>\n",
       "    </tr>\n",
       "    <tr>\n",
       "      <th>4</th>\n",
       "      <td>08/30/2015</td>\n",
       "      <td>189565</td>\n",
       "      <td>223043</td>\n",
       "      <td>POINT (-73.97597938483258 40.66677775537875)</td>\n",
       "      <td>21</td>\n",
       "      <td>0</td>\n",
       "      <td>OnCurb</td>\n",
       "      <td>Alive</td>\n",
       "      <td>Good</td>\n",
       "      <td>Tilia americana</td>\n",
       "      <td>...</td>\n",
       "      <td>44</td>\n",
       "      <td>21</td>\n",
       "      <td>BK37</td>\n",
       "      <td>Park Slope-Gowanus</td>\n",
       "      <td>3016500</td>\n",
       "      <td>New York</td>\n",
       "      <td>40.666778</td>\n",
       "      <td>-73.975979</td>\n",
       "      <td>9.909138e+05</td>\n",
       "      <td>182202.425999</td>\n",
       "    </tr>\n",
       "  </tbody>\n",
       "</table>\n",
       "<p>5 rows × 42 columns</p>\n",
       "</div>"
      ],
      "text/plain": [
       "   created_at  tree_id  block_id  \\\n",
       "0  08/27/2015   180683    348711   \n",
       "1  09/03/2015   200540    315986   \n",
       "2  09/05/2015   204026    218365   \n",
       "3  09/05/2015   204337    217969   \n",
       "4  08/30/2015   189565    223043   \n",
       "\n",
       "                                        the_geom  tree_dbh  stump_diam  \\\n",
       "0  POINT (-73.84421521958048 40.723091773924274)         3           0   \n",
       "1   POINT (-73.81867945834878 40.79411066708779)        21           0   \n",
       "2  POINT (-73.93660770459083 40.717580740099116)         3           0   \n",
       "3  POINT (-73.93445615919741 40.713537494833226)        10           0   \n",
       "4   POINT (-73.97597938483258 40.66677775537875)        21           0   \n",
       "\n",
       "  curb_loc status health                           spc_latin  ... st_assem  \\\n",
       "0   OnCurb  Alive   Fair                         Acer rubrum  ...       28   \n",
       "1   OnCurb  Alive   Fair                   Quercus palustris  ...       27   \n",
       "2   OnCurb  Alive   Good  Gleditsia triacanthos var. inermis  ...       50   \n",
       "3   OnCurb  Alive   Good  Gleditsia triacanthos var. inermis  ...       53   \n",
       "4   OnCurb  Alive   Good                     Tilia americana  ...       44   \n",
       "\n",
       "  st_senate   nta            nta_name  boro_ct     state   latitude  \\\n",
       "0        16  QN17        Forest Hills  4073900  New York  40.723092   \n",
       "1        11  QN49          Whitestone  4097300  New York  40.794111   \n",
       "2        18  BK90   East Williamsburg  3044900  New York  40.717581   \n",
       "3        18  BK90   East Williamsburg  3044900  New York  40.713537   \n",
       "4        21  BK37  Park Slope-Gowanus  3016500  New York  40.666778   \n",
       "\n",
       "   longitude          x_sp           y_sp  \n",
       "0 -73.844215  1.027431e+06  202756.768749  \n",
       "1 -73.818679  1.034456e+06  228644.837379  \n",
       "2 -73.936608  1.001823e+06  200716.891267  \n",
       "3 -73.934456  1.002420e+06  199244.253136  \n",
       "4 -73.975979  9.909138e+05  182202.425999  \n",
       "\n",
       "[5 rows x 42 columns]"
      ]
     },
     "execution_count": 184,
     "metadata": {},
     "output_type": "execute_result"
    }
   ],
   "source": [
    "#Making a copy of the data frame in order to start cleaning\n",
    "df_copy = df.copy()\n",
    "df_copy.head()"
   ]
  },
  {
   "cell_type": "code",
   "execution_count": 185,
   "id": "226f2413",
   "metadata": {},
   "outputs": [
    {
     "data": {
      "text/plain": [
       "created_at     object\n",
       "tree_id         int64\n",
       "block_id        int64\n",
       "the_geom       object\n",
       "tree_dbh        int64\n",
       "stump_diam      int64\n",
       "curb_loc       object\n",
       "status         object\n",
       "health         object\n",
       "spc_latin      object\n",
       "spc_common     object\n",
       "steward        object\n",
       "guards         object\n",
       "sidewalk       object\n",
       "user_type      object\n",
       "problems       object\n",
       "root_stone     object\n",
       "root_grate     object\n",
       "root_other     object\n",
       "trnk_wire      object\n",
       "trnk_light     object\n",
       "trnk_other     object\n",
       "brnch_ligh     object\n",
       "brnch_shoe     object\n",
       "brnch_othe     object\n",
       "address        object\n",
       "zipcode         int64\n",
       "zip_city       object\n",
       "cb_num          int64\n",
       "borocode        int64\n",
       "boroname       object\n",
       "cncldist        int64\n",
       "st_assem        int64\n",
       "st_senate       int64\n",
       "nta            object\n",
       "nta_name       object\n",
       "boro_ct         int64\n",
       "state          object\n",
       "latitude      float64\n",
       "longitude     float64\n",
       "x_sp          float64\n",
       "y_sp          float64\n",
       "dtype: object"
      ]
     },
     "execution_count": 185,
     "metadata": {},
     "output_type": "execute_result"
    }
   ],
   "source": [
    "#checking data types\n",
    "df_copy.dtypes"
   ]
  },
  {
   "cell_type": "code",
   "execution_count": 186,
   "id": "f4b025e2",
   "metadata": {
    "scrolled": true
   },
   "outputs": [
    {
     "data": {
      "text/plain": [
       "created_at    datetime64[ns]\n",
       "tree_id                int64\n",
       "block_id               int64\n",
       "the_geom              object\n",
       "tree_dbh               int64\n",
       "stump_diam             int64\n",
       "curb_loc              object\n",
       "status                object\n",
       "health                object\n",
       "spc_latin             object\n",
       "spc_common            object\n",
       "steward               object\n",
       "guards                object\n",
       "sidewalk              object\n",
       "user_type             object\n",
       "problems              object\n",
       "root_stone            object\n",
       "root_grate            object\n",
       "root_other            object\n",
       "trnk_wire             object\n",
       "trnk_light            object\n",
       "trnk_other            object\n",
       "brnch_ligh            object\n",
       "brnch_shoe            object\n",
       "brnch_othe            object\n",
       "address               object\n",
       "zipcode                int64\n",
       "zip_city              object\n",
       "cb_num                 int64\n",
       "borocode               int64\n",
       "boroname              object\n",
       "cncldist               int64\n",
       "st_assem               int64\n",
       "st_senate              int64\n",
       "nta                   object\n",
       "nta_name              object\n",
       "boro_ct                int64\n",
       "state                 object\n",
       "latitude             float64\n",
       "longitude            float64\n",
       "x_sp                 float64\n",
       "y_sp                 float64\n",
       "dtype: object"
      ]
     },
     "execution_count": 186,
     "metadata": {},
     "output_type": "execute_result"
    }
   ],
   "source": [
    "#changing the data type from \"created_at\" to dataframe\n",
    "df_copy[\"created_at\"] = pd.to_datetime(df_copy.created_at)\n",
    "df_copy.dtypes"
   ]
  },
  {
   "cell_type": "code",
   "execution_count": 187,
   "id": "2b6d7996",
   "metadata": {},
   "outputs": [
    {
     "data": {
      "text/html": [
       "<div>\n",
       "<style scoped>\n",
       "    .dataframe tbody tr th:only-of-type {\n",
       "        vertical-align: middle;\n",
       "    }\n",
       "\n",
       "    .dataframe tbody tr th {\n",
       "        vertical-align: top;\n",
       "    }\n",
       "\n",
       "    .dataframe thead th {\n",
       "        text-align: right;\n",
       "    }\n",
       "</style>\n",
       "<table border=\"1\" class=\"dataframe\">\n",
       "  <thead>\n",
       "    <tr style=\"text-align: right;\">\n",
       "      <th></th>\n",
       "      <th>the_geom</th>\n",
       "      <th>curb_loc</th>\n",
       "      <th>status</th>\n",
       "      <th>health</th>\n",
       "      <th>spc_latin</th>\n",
       "      <th>spc_common</th>\n",
       "      <th>steward</th>\n",
       "      <th>guards</th>\n",
       "      <th>sidewalk</th>\n",
       "      <th>user_type</th>\n",
       "      <th>...</th>\n",
       "      <th>trnk_wire</th>\n",
       "      <th>trnk_light</th>\n",
       "      <th>brnch_shoe</th>\n",
       "      <th>brnch_othe</th>\n",
       "      <th>address</th>\n",
       "      <th>zip_city</th>\n",
       "      <th>boroname</th>\n",
       "      <th>nta</th>\n",
       "      <th>nta_name</th>\n",
       "      <th>state</th>\n",
       "    </tr>\n",
       "  </thead>\n",
       "  <tbody>\n",
       "    <tr>\n",
       "      <th>0</th>\n",
       "      <td>POINT (-73.84421521958048 40.723091773924274)</td>\n",
       "      <td>OnCurb</td>\n",
       "      <td>Alive</td>\n",
       "      <td>Fair</td>\n",
       "      <td>Acer rubrum</td>\n",
       "      <td>red maple</td>\n",
       "      <td>None</td>\n",
       "      <td>None</td>\n",
       "      <td>NoDamage</td>\n",
       "      <td>TreesCount Staff</td>\n",
       "      <td>...</td>\n",
       "      <td>No</td>\n",
       "      <td>No</td>\n",
       "      <td>No</td>\n",
       "      <td>No</td>\n",
       "      <td>108-005 70 AVENUE</td>\n",
       "      <td>Forest Hills</td>\n",
       "      <td>Queens</td>\n",
       "      <td>QN17</td>\n",
       "      <td>Forest Hills</td>\n",
       "      <td>New York</td>\n",
       "    </tr>\n",
       "    <tr>\n",
       "      <th>1</th>\n",
       "      <td>POINT (-73.81867945834878 40.79411066708779)</td>\n",
       "      <td>OnCurb</td>\n",
       "      <td>Alive</td>\n",
       "      <td>Fair</td>\n",
       "      <td>Quercus palustris</td>\n",
       "      <td>pin oak</td>\n",
       "      <td>None</td>\n",
       "      <td>None</td>\n",
       "      <td>Damage</td>\n",
       "      <td>TreesCount Staff</td>\n",
       "      <td>...</td>\n",
       "      <td>No</td>\n",
       "      <td>No</td>\n",
       "      <td>No</td>\n",
       "      <td>No</td>\n",
       "      <td>147-074 7 AVENUE</td>\n",
       "      <td>Whitestone</td>\n",
       "      <td>Queens</td>\n",
       "      <td>QN49</td>\n",
       "      <td>Whitestone</td>\n",
       "      <td>New York</td>\n",
       "    </tr>\n",
       "    <tr>\n",
       "      <th>2</th>\n",
       "      <td>POINT (-73.93660770459083 40.717580740099116)</td>\n",
       "      <td>OnCurb</td>\n",
       "      <td>Alive</td>\n",
       "      <td>Good</td>\n",
       "      <td>Gleditsia triacanthos var. inermis</td>\n",
       "      <td>honeylocust</td>\n",
       "      <td>1or2</td>\n",
       "      <td>None</td>\n",
       "      <td>Damage</td>\n",
       "      <td>Volunteer</td>\n",
       "      <td>...</td>\n",
       "      <td>No</td>\n",
       "      <td>No</td>\n",
       "      <td>No</td>\n",
       "      <td>No</td>\n",
       "      <td>390 MORGAN AVENUE</td>\n",
       "      <td>Brooklyn</td>\n",
       "      <td>Brooklyn</td>\n",
       "      <td>BK90</td>\n",
       "      <td>East Williamsburg</td>\n",
       "      <td>New York</td>\n",
       "    </tr>\n",
       "    <tr>\n",
       "      <th>3</th>\n",
       "      <td>POINT (-73.93445615919741 40.713537494833226)</td>\n",
       "      <td>OnCurb</td>\n",
       "      <td>Alive</td>\n",
       "      <td>Good</td>\n",
       "      <td>Gleditsia triacanthos var. inermis</td>\n",
       "      <td>honeylocust</td>\n",
       "      <td>None</td>\n",
       "      <td>None</td>\n",
       "      <td>Damage</td>\n",
       "      <td>Volunteer</td>\n",
       "      <td>...</td>\n",
       "      <td>No</td>\n",
       "      <td>No</td>\n",
       "      <td>No</td>\n",
       "      <td>No</td>\n",
       "      <td>1027 GRAND STREET</td>\n",
       "      <td>Brooklyn</td>\n",
       "      <td>Brooklyn</td>\n",
       "      <td>BK90</td>\n",
       "      <td>East Williamsburg</td>\n",
       "      <td>New York</td>\n",
       "    </tr>\n",
       "    <tr>\n",
       "      <th>4</th>\n",
       "      <td>POINT (-73.97597938483258 40.66677775537875)</td>\n",
       "      <td>OnCurb</td>\n",
       "      <td>Alive</td>\n",
       "      <td>Good</td>\n",
       "      <td>Tilia americana</td>\n",
       "      <td>American linden</td>\n",
       "      <td>None</td>\n",
       "      <td>None</td>\n",
       "      <td>Damage</td>\n",
       "      <td>Volunteer</td>\n",
       "      <td>...</td>\n",
       "      <td>No</td>\n",
       "      <td>No</td>\n",
       "      <td>No</td>\n",
       "      <td>No</td>\n",
       "      <td>603 6 STREET</td>\n",
       "      <td>Brooklyn</td>\n",
       "      <td>Brooklyn</td>\n",
       "      <td>BK37</td>\n",
       "      <td>Park Slope-Gowanus</td>\n",
       "      <td>New York</td>\n",
       "    </tr>\n",
       "    <tr>\n",
       "      <th>...</th>\n",
       "      <td>...</td>\n",
       "      <td>...</td>\n",
       "      <td>...</td>\n",
       "      <td>...</td>\n",
       "      <td>...</td>\n",
       "      <td>...</td>\n",
       "      <td>...</td>\n",
       "      <td>...</td>\n",
       "      <td>...</td>\n",
       "      <td>...</td>\n",
       "      <td>...</td>\n",
       "      <td>...</td>\n",
       "      <td>...</td>\n",
       "      <td>...</td>\n",
       "      <td>...</td>\n",
       "      <td>...</td>\n",
       "      <td>...</td>\n",
       "      <td>...</td>\n",
       "      <td>...</td>\n",
       "      <td>...</td>\n",
       "      <td>...</td>\n",
       "    </tr>\n",
       "    <tr>\n",
       "      <th>99995</th>\n",
       "      <td>POINT (-74.2476220025519 40.50285270258401)</td>\n",
       "      <td>OnCurb</td>\n",
       "      <td>Alive</td>\n",
       "      <td>Fair</td>\n",
       "      <td>Pyrus calleryana</td>\n",
       "      <td>Callery pear</td>\n",
       "      <td>1or2</td>\n",
       "      <td>None</td>\n",
       "      <td>NoDamage</td>\n",
       "      <td>TreesCount Staff</td>\n",
       "      <td>...</td>\n",
       "      <td>No</td>\n",
       "      <td>No</td>\n",
       "      <td>No</td>\n",
       "      <td>No</td>\n",
       "      <td>201 ASPINWALL STREET</td>\n",
       "      <td>Staten Island</td>\n",
       "      <td>Staten Island</td>\n",
       "      <td>SI11</td>\n",
       "      <td>Charleston-Richmond Valley-Tottenville</td>\n",
       "      <td>New York</td>\n",
       "    </tr>\n",
       "    <tr>\n",
       "      <th>99996</th>\n",
       "      <td>POINT (-74.24760188461457 40.50279600610096)</td>\n",
       "      <td>OnCurb</td>\n",
       "      <td>Alive</td>\n",
       "      <td>Good</td>\n",
       "      <td>Pyrus calleryana</td>\n",
       "      <td>Callery pear</td>\n",
       "      <td>1or2</td>\n",
       "      <td>None</td>\n",
       "      <td>NoDamage</td>\n",
       "      <td>TreesCount Staff</td>\n",
       "      <td>...</td>\n",
       "      <td>No</td>\n",
       "      <td>No</td>\n",
       "      <td>No</td>\n",
       "      <td>No</td>\n",
       "      <td>201 ASPINWALL STREET</td>\n",
       "      <td>Staten Island</td>\n",
       "      <td>Staten Island</td>\n",
       "      <td>SI11</td>\n",
       "      <td>Charleston-Richmond Valley-Tottenville</td>\n",
       "      <td>New York</td>\n",
       "    </tr>\n",
       "    <tr>\n",
       "      <th>99997</th>\n",
       "      <td>POINT (-73.7512941078738 40.777061235064345)</td>\n",
       "      <td>OnCurb</td>\n",
       "      <td>Alive</td>\n",
       "      <td>Good</td>\n",
       "      <td>Pyrus calleryana</td>\n",
       "      <td>Callery pear</td>\n",
       "      <td>1or2</td>\n",
       "      <td>None</td>\n",
       "      <td>NoDamage</td>\n",
       "      <td>Volunteer</td>\n",
       "      <td>...</td>\n",
       "      <td>No</td>\n",
       "      <td>No</td>\n",
       "      <td>No</td>\n",
       "      <td>No</td>\n",
       "      <td>237-010 32 AVENUE</td>\n",
       "      <td>Little Neck</td>\n",
       "      <td>Queens</td>\n",
       "      <td>QN45</td>\n",
       "      <td>Douglas Manor-Douglaston-Little Neck</td>\n",
       "      <td>New York</td>\n",
       "    </tr>\n",
       "    <tr>\n",
       "      <th>99998</th>\n",
       "      <td>POINT (-74.14599626668874 40.55119304411556)</td>\n",
       "      <td>OnCurb</td>\n",
       "      <td>Alive</td>\n",
       "      <td>Good</td>\n",
       "      <td>Pyrus calleryana</td>\n",
       "      <td>Callery pear</td>\n",
       "      <td>None</td>\n",
       "      <td>None</td>\n",
       "      <td>NoDamage</td>\n",
       "      <td>TreesCount Staff</td>\n",
       "      <td>...</td>\n",
       "      <td>No</td>\n",
       "      <td>No</td>\n",
       "      <td>No</td>\n",
       "      <td>No</td>\n",
       "      <td>4 MIDLAND ROAD</td>\n",
       "      <td>Staten Island</td>\n",
       "      <td>Staten Island</td>\n",
       "      <td>SI54</td>\n",
       "      <td>Great Kills</td>\n",
       "      <td>New York</td>\n",
       "    </tr>\n",
       "    <tr>\n",
       "      <th>99999</th>\n",
       "      <td>POINT (-74.01358936114298 40.717426536991724)</td>\n",
       "      <td>OnCurb</td>\n",
       "      <td>Alive</td>\n",
       "      <td>Good</td>\n",
       "      <td>Pyrus calleryana</td>\n",
       "      <td>Callery pear</td>\n",
       "      <td>1or2</td>\n",
       "      <td>Helpful</td>\n",
       "      <td>NoDamage</td>\n",
       "      <td>NYC Parks Staff</td>\n",
       "      <td>...</td>\n",
       "      <td>No</td>\n",
       "      <td>No</td>\n",
       "      <td>No</td>\n",
       "      <td>No</td>\n",
       "      <td>450 NORTH END AVENUE</td>\n",
       "      <td>New York</td>\n",
       "      <td>Manhattan</td>\n",
       "      <td>MN25</td>\n",
       "      <td>Battery Park City-Lower Manhattan</td>\n",
       "      <td>New York</td>\n",
       "    </tr>\n",
       "  </tbody>\n",
       "</table>\n",
       "<p>100000 rows × 24 columns</p>\n",
       "</div>"
      ],
      "text/plain": [
       "                                            the_geom curb_loc status health  \\\n",
       "0      POINT (-73.84421521958048 40.723091773924274)   OnCurb  Alive   Fair   \n",
       "1       POINT (-73.81867945834878 40.79411066708779)   OnCurb  Alive   Fair   \n",
       "2      POINT (-73.93660770459083 40.717580740099116)   OnCurb  Alive   Good   \n",
       "3      POINT (-73.93445615919741 40.713537494833226)   OnCurb  Alive   Good   \n",
       "4       POINT (-73.97597938483258 40.66677775537875)   OnCurb  Alive   Good   \n",
       "...                                              ...      ...    ...    ...   \n",
       "99995    POINT (-74.2476220025519 40.50285270258401)   OnCurb  Alive   Fair   \n",
       "99996   POINT (-74.24760188461457 40.50279600610096)   OnCurb  Alive   Good   \n",
       "99997   POINT (-73.7512941078738 40.777061235064345)   OnCurb  Alive   Good   \n",
       "99998   POINT (-74.14599626668874 40.55119304411556)   OnCurb  Alive   Good   \n",
       "99999  POINT (-74.01358936114298 40.717426536991724)   OnCurb  Alive   Good   \n",
       "\n",
       "                                spc_latin       spc_common steward   guards  \\\n",
       "0                             Acer rubrum        red maple    None     None   \n",
       "1                       Quercus palustris          pin oak    None     None   \n",
       "2      Gleditsia triacanthos var. inermis      honeylocust    1or2     None   \n",
       "3      Gleditsia triacanthos var. inermis      honeylocust    None     None   \n",
       "4                         Tilia americana  American linden    None     None   \n",
       "...                                   ...              ...     ...      ...   \n",
       "99995                    Pyrus calleryana     Callery pear    1or2     None   \n",
       "99996                    Pyrus calleryana     Callery pear    1or2     None   \n",
       "99997                    Pyrus calleryana     Callery pear    1or2     None   \n",
       "99998                    Pyrus calleryana     Callery pear    None     None   \n",
       "99999                    Pyrus calleryana     Callery pear    1or2  Helpful   \n",
       "\n",
       "       sidewalk         user_type  ... trnk_wire trnk_light brnch_shoe  \\\n",
       "0      NoDamage  TreesCount Staff  ...        No         No         No   \n",
       "1        Damage  TreesCount Staff  ...        No         No         No   \n",
       "2        Damage         Volunteer  ...        No         No         No   \n",
       "3        Damage         Volunteer  ...        No         No         No   \n",
       "4        Damage         Volunteer  ...        No         No         No   \n",
       "...         ...               ...  ...       ...        ...        ...   \n",
       "99995  NoDamage  TreesCount Staff  ...        No         No         No   \n",
       "99996  NoDamage  TreesCount Staff  ...        No         No         No   \n",
       "99997  NoDamage         Volunteer  ...        No         No         No   \n",
       "99998  NoDamage  TreesCount Staff  ...        No         No         No   \n",
       "99999  NoDamage   NYC Parks Staff  ...        No         No         No   \n",
       "\n",
       "      brnch_othe               address       zip_city       boroname   nta  \\\n",
       "0             No     108-005 70 AVENUE   Forest Hills         Queens  QN17   \n",
       "1             No      147-074 7 AVENUE     Whitestone         Queens  QN49   \n",
       "2             No     390 MORGAN AVENUE       Brooklyn       Brooklyn  BK90   \n",
       "3             No     1027 GRAND STREET       Brooklyn       Brooklyn  BK90   \n",
       "4             No          603 6 STREET       Brooklyn       Brooklyn  BK37   \n",
       "...          ...                   ...            ...            ...   ...   \n",
       "99995         No  201 ASPINWALL STREET  Staten Island  Staten Island  SI11   \n",
       "99996         No  201 ASPINWALL STREET  Staten Island  Staten Island  SI11   \n",
       "99997         No     237-010 32 AVENUE    Little Neck         Queens  QN45   \n",
       "99998         No        4 MIDLAND ROAD  Staten Island  Staten Island  SI54   \n",
       "99999         No  450 NORTH END AVENUE       New York      Manhattan  MN25   \n",
       "\n",
       "                                     nta_name     state  \n",
       "0                                Forest Hills  New York  \n",
       "1                                  Whitestone  New York  \n",
       "2                           East Williamsburg  New York  \n",
       "3                           East Williamsburg  New York  \n",
       "4                          Park Slope-Gowanus  New York  \n",
       "...                                       ...       ...  \n",
       "99995  Charleston-Richmond Valley-Tottenville  New York  \n",
       "99996  Charleston-Richmond Valley-Tottenville  New York  \n",
       "99997    Douglas Manor-Douglaston-Little Neck  New York  \n",
       "99998                             Great Kills  New York  \n",
       "99999       Battery Park City-Lower Manhattan  New York  \n",
       "\n",
       "[100000 rows x 24 columns]"
      ]
     },
     "execution_count": 187,
     "metadata": {},
     "output_type": "execute_result"
    }
   ],
   "source": [
    "#striping the strings\n",
    "columns_to_strip = ['the_geom', 'curb_loc', 'status', 'health', 'spc_latin', 'spc_common', 'steward', 'guards',\n",
    "                    'sidewalk', 'user_type', 'problems', 'root_stone', 'root_grate', 'root_other', 'trnk_wire',\n",
    "                    'trnk_light', 'brnch_shoe', 'brnch_othe', 'address', 'zip_city', 'boroname', 'nta',\n",
    "                    'nta_name', 'state',]\n",
    "df_copy[columns_to_strip].apply(lambda x: x.str.strip())"
   ]
  },
  {
   "cell_type": "code",
   "execution_count": 188,
   "id": "6d153135",
   "metadata": {},
   "outputs": [
    {
     "data": {
      "text/plain": [
       "['created_at',\n",
       " 'tree_id',\n",
       " 'block_id',\n",
       " 'the_geom',\n",
       " 'tree_dbh',\n",
       " 'stump_diam',\n",
       " 'curb_loc',\n",
       " 'status',\n",
       " 'health',\n",
       " 'spc_latin',\n",
       " 'spc_common',\n",
       " 'steward',\n",
       " 'guards',\n",
       " 'sidewalk',\n",
       " 'user_type',\n",
       " 'problems',\n",
       " 'root_stone',\n",
       " 'root_grate',\n",
       " 'root_other',\n",
       " 'trnk_wire',\n",
       " 'trnk_light',\n",
       " 'trnk_other',\n",
       " 'brnch_ligh',\n",
       " 'brnch_shoe',\n",
       " 'brnch_othe',\n",
       " 'address',\n",
       " 'zipcode',\n",
       " 'zip_city',\n",
       " 'cb_num',\n",
       " 'borocode',\n",
       " 'boroname',\n",
       " 'cncldist',\n",
       " 'st_assem',\n",
       " 'st_senate',\n",
       " 'nta',\n",
       " 'nta_name',\n",
       " 'boro_ct',\n",
       " 'state',\n",
       " 'latitude',\n",
       " 'longitude',\n",
       " 'x_sp',\n",
       " 'y_sp']"
      ]
     },
     "execution_count": 188,
     "metadata": {},
     "output_type": "execute_result"
    }
   ],
   "source": [
    "#removing duplicates\n",
    "df_copy.duplicated(['created_at','status','spc_latin', 'block_id',\n",
    "                    \"health\", \"user_type\", \"boro_ct\", \"stump_diam\",\n",
    "                    'latitude', 'longitude']).value_counts()\n",
    "#keeping the duplicates since they can help store more information about the same tree\n",
    "df_copy.columns.tolist()"
   ]
  },
  {
   "cell_type": "code",
   "execution_count": 189,
   "id": "a8886ef0",
   "metadata": {},
   "outputs": [
    {
     "data": {
      "text/plain": [
       "borocode  boroname  cncldist  st_assem  st_senate  nta    nta_name  boro_ct  state  latitude\n",
       "False     False     False     False     False      False  False     False    False  False       100.0\n",
       "dtype: float64"
      ]
     },
     "execution_count": 189,
     "metadata": {},
     "output_type": "execute_result"
    }
   ],
   "source": [
    "#list all the columns\n",
    "#df_copy.columns.tolist()\n",
    "columns_list =['created_at','tree_id','block_id','the_geom','tree_dbh','stump_diam','curb_loc','status','health', \n",
    "               'spc_latin','spc_common',\n",
    "               'steward','guards','sidewalk','user_type','problems','root_stone','root_grate','root_other','trnk_wire',\n",
    "               'trnk_light','trnk_other','brnch_ligh','brnch_shoe','brnch_othe','address','zipcode','zip_city','cb_num',\n",
    "               'borocode','boroname','cncldist','st_assem','st_senate','nta','nta_name','boro_ct','state','latitude',\n",
    "               'longitude','x_sp','y_sp']\n",
    "\n",
    "#looking for NaN values to know how to deal with them\n",
    "df_copy.isna()\n",
    "df_copy.isnull()\n",
    "df_copy[['created_at','tree_id','block_id','the_geom','tree_dbh','stump_diam','curb_loc','status','health']].isna().value_counts(normalize=True) * 100\n",
    "#healh has NaN values; 4.993%\n",
    "\n",
    "df_copy[['spc_latin','spc_common','longitude','x_sp','y_sp']].isna().value_counts(normalize=True) * 100\n",
    "#spc_common has NaN values; 4.992%\n",
    "\n",
    "df_copy[['steward','guards','sidewalk','user_type','problems','root_stone','root_grate','root_other','trnk_wire']].isna().value_counts(normalize=True) * 100\n",
    "#guards, sidewalk, problems and steward have NaN values; 4.992%\n",
    "\n",
    "df_copy[['trnk_light','trnk_other','brnch_ligh','brnch_shoe','brnch_othe','address','zipcode','zip_city','cb_num']].isna().value_counts(normalize=True) * 100\n",
    "#has no NaN values\n",
    "\n",
    "df_copy[['borocode','boroname','cncldist','st_assem','st_senate','nta','nta_name','boro_ct','state','latitude']].isna().value_counts(normalize=True) * 100\n",
    "#has no NaN values\n",
    "\n"
   ]
  },
  {
   "cell_type": "code",
   "execution_count": 190,
   "id": "e324603c",
   "metadata": {},
   "outputs": [
    {
     "data": {
      "text/plain": [
       "array(['Fair', 'Good', 'Poor', nan], dtype=object)"
      ]
     },
     "execution_count": 190,
     "metadata": {},
     "output_type": "execute_result"
    }
   ],
   "source": [
    "#Dealing with NaN in the health column\n",
    "df_copy[\"health\"].unique()\n"
   ]
  },
  {
   "cell_type": "code",
   "execution_count": 191,
   "id": "6b9cd7c9",
   "metadata": {},
   "outputs": [
    {
     "data": {
      "text/plain": [
       "array(['red maple', 'pin oak', 'honeylocust', 'American linden',\n",
       "       'London planetree', 'ginkgo', 'willow oak', 'sycamore maple',\n",
       "       'Amur maple', 'hedge maple', 'American elm', 'ash', 'crab apple',\n",
       "       'silver maple', 'Turkish hazelnut', 'black cherry',\n",
       "       'eastern redcedar', 'Norway maple', 'tulip-poplar', 'sawtooth oak',\n",
       "       'Sophora', 'swamp white oak', 'Chinese fringetree',\n",
       "       'southern magnolia', 'sweetgum', 'Callery pear', 'scarlet oak',\n",
       "       'Atlantic white cedar', 'black oak', 'Japanese zelkova',\n",
       "       'white oak', 'Ohio buckeye', 'northern red oak', nan,\n",
       "       'silver linden', 'pignut hickory', 'Kentucky yellowwood',\n",
       "       'mulberry', 'Douglas-fir', 'crepe myrtle', 'sassafras', 'spruce',\n",
       "       'Chinese elm', 'horse chestnut', 'holly', 'littleleaf linden',\n",
       "       'white pine', 'blackgum', 'Japanese tree lilac',\n",
       "       'hardy rubber tree', 'green ash', 'English oak', 'white ash',\n",
       "       'golden raintree', \"Schumard's oak\", 'Siberian elm',\n",
       "       'black walnut', 'weeping willow', 'katsura tree', 'black locust',\n",
       "       'Persian ironwood', 'Cornelian cherry', 'Chinese chestnut',\n",
       "       'southern red oak', 'cherry', 'purple-leaf plum',\n",
       "       'crimson king maple', 'Kentucky coffeetree', 'Japanese snowbell',\n",
       "       'sugar maple', 'arborvitae', 'Oklahoma redbud', 'tree of heaven',\n",
       "       'Chinese tree lilac', 'American hornbeam', 'eastern cottonwood',\n",
       "       'eastern hemlock', 'silver birch', 'Atlas cedar', 'empress tree',\n",
       "       'hawthorn', \"'Schubert' chokecherry\", 'catalpa', 'river birch',\n",
       "       'boxelder', 'European beech', 'Norway spruce', 'Himalayan cedar',\n",
       "       'Amur cork tree', 'Japanese maple', 'shingle oak', 'magnolia',\n",
       "       'smoketree', 'paper birch', 'American beech',\n",
       "       'American hophornbeam', 'American larch', 'pond cypress',\n",
       "       'cockspur hawthorn', 'dawn redwood', 'common hackberry',\n",
       "       'flowering dogwood', 'kousa dogwood', 'maple', 'eastern redbud',\n",
       "       'bald cypress', 'cucumber magnolia', 'serviceberry',\n",
       "       'Osage-orange', 'paperbark maple', 'red pine', 'Scots pine',\n",
       "       'tartar maple', 'black maple', 'blue spruce', 'quaking aspen',\n",
       "       'red horse chestnut', 'black pine', 'Shantung maple',\n",
       "       'European alder', 'Amur maackia', 'European hornbeam', 'bur oak',\n",
       "       'bigtooth aspen', 'trident maple', 'Virginia pine'], dtype=object)"
      ]
     },
     "execution_count": 191,
     "metadata": {},
     "output_type": "execute_result"
    }
   ],
   "source": [
    "#Dealing with NaN in the spc_common column (commun name species)\n",
    "df_copy[\"spc_common\"].unique()\n",
    "#df_copy[\"spc_common\"] = df_copy[\"spc_common\"].fillna(\"Not specified\")\n",
    "#df_copy[\"spc_common\"].unique()"
   ]
  },
  {
   "cell_type": "code",
   "execution_count": 192,
   "id": "13d70807",
   "metadata": {},
   "outputs": [
    {
     "data": {
      "text/plain": [
       "array(['None', 'Helpful', 'Harmful', 'Unsure', nan], dtype=object)"
      ]
     },
     "execution_count": 192,
     "metadata": {},
     "output_type": "execute_result"
    }
   ],
   "source": [
    "#Dealing with NaN in the guards column (if there is a fence around the tree)\n",
    "df_copy[\"guards\"].unique()\n"
   ]
  },
  {
   "cell_type": "code",
   "execution_count": 193,
   "id": "5987d232",
   "metadata": {},
   "outputs": [
    {
     "data": {
      "text/plain": [
       "array(['NoDamage', 'Damage', nan], dtype=object)"
      ]
     },
     "execution_count": 193,
     "metadata": {},
     "output_type": "execute_result"
    }
   ],
   "source": [
    "#Dealing with NaN in the sidewalk column (if there is a fence around the tree)\n",
    "df_copy[\"sidewalk\"].unique()\n"
   ]
  },
  {
   "cell_type": "code",
   "execution_count": 194,
   "id": "1fcc5fd5",
   "metadata": {},
   "outputs": [
    {
     "data": {
      "text/plain": [
       "array(['None', 'Stones', 'MetalGrates', 'RootOther', 'Stones,BranchOther',\n",
       "       'TrunkLights,BranchLights', 'RootOther,TrunkOther,BranchOther',\n",
       "       'BranchOther', 'Stones,BranchLights', 'TrunkOther,BranchLights',\n",
       "       'MetalGrates,TrunkOther', 'TrunkOther', 'Stones,WiresRope',\n",
       "       'BranchLights', 'WiresRope,BranchOther', 'RootOther,BranchOther',\n",
       "       'Stones,WiresRope,BranchLights', 'WiresRope',\n",
       "       'WiresRope,BranchLights', 'Stones,TrunkOther',\n",
       "       'WiresRope,TrunkLights,BranchLights', 'Stones,RootOther',\n",
       "       'Stones,BranchLights,BranchOther', 'Stones,RootOther,BranchLights',\n",
       "       'MetalGrates,BranchOther', 'Stones,RootOther,TrunkOther',\n",
       "       'RootOther,TrunkOther',\n",
       "       'Stones,TrunkOther,BranchLights,BranchOther',\n",
       "       'Stones,TrunkOther,BranchOther', 'RootOther,BranchLights',\n",
       "       'TrunkOther,BranchOther', 'RootOther,WiresRope,BranchLights',\n",
       "       'Stones,TrunkOther,BranchLights', 'BranchLights,Sneakers',\n",
       "       'Stones,RootOther,TrunkOther,BranchLights', nan,\n",
       "       'MetalGrates,TrunkOther,BranchOther', 'TrunkLights,BranchOther',\n",
       "       'TrunkLights', 'Stones,RootOther,BranchOther',\n",
       "       'RootOther,WiresRope', 'BranchLights,BranchOther',\n",
       "       'Stones,MetalGrates', 'RootOther,TrunkOther,BranchLights',\n",
       "       'Stones,WiresRope,TrunkOther,BranchLights',\n",
       "       'WiresRope,TrunkOther,BranchOther',\n",
       "       'RootOther,WiresRope,TrunkOther,BranchLights',\n",
       "       'RootOther,TrunkOther,BranchLights,BranchOther',\n",
       "       'MetalGrates,RootOther,TrunkOther', 'Stones,WiresRope,TrunkOther',\n",
       "       'MetalGrates,RootOther,TrunkOther,BranchOther',\n",
       "       'Stones,RootOther,WiresRope,BranchLights', 'WiresRope,TrunkOther',\n",
       "       'RootOther,WiresRope,TrunkOther', 'MetalGrates,WiresRope',\n",
       "       'Stones,RootOther,WiresRope,TrunkOther',\n",
       "       'Stones,RootOther,TrunkOther,BranchOther',\n",
       "       'Stones,WiresRope,BranchOther',\n",
       "       'RootOther,BranchLights,BranchOther',\n",
       "       'Stones,RootOther,WiresRope,TrunkLights,BranchLights',\n",
       "       'RootOther,WiresRope,TrunkOther,BranchLights,BranchOther',\n",
       "       'WiresRope,TrunkOther,BranchLights,BranchOther',\n",
       "       'Stones,RootOther,WiresRope,BranchOther', 'MetalGrates,RootOther',\n",
       "       'Stones,TrunkLights', 'Stones,MetalGrates,WiresRope,BranchLights',\n",
       "       'Stones,WiresRope,BranchLights,BranchOther',\n",
       "       'TrunkOther,BranchLights,BranchOther', 'TrunkLights,TrunkOther',\n",
       "       'Stones,RootOther,TrunkLights,BranchLights',\n",
       "       'Stones,TrunkLights,BranchLights',\n",
       "       'WiresRope,BranchLights,BranchOther', 'WiresRope,TrunkLights',\n",
       "       'Stones,RootOther,TrunkOther,BranchLights,BranchOther',\n",
       "       'TrunkOther,Sneakers',\n",
       "       'RootOther,WiresRope,TrunkOther,BranchOther',\n",
       "       'RootOther,TrunkLights,BranchLights', 'RootOther,Sneakers',\n",
       "       'Stones,RootOther,Sneakers,BranchOther',\n",
       "       'MetalGrates,WiresRope,BranchOther',\n",
       "       'RootOther,TrunkLights,BranchOther',\n",
       "       'RootOther,WiresRope,BranchOther',\n",
       "       'Stones,RootOther,WiresRope,TrunkOther,BranchLights,BranchOther',\n",
       "       'MetalGrates,BranchLights',\n",
       "       'Stones,TrunkLights,BranchLights,BranchOther',\n",
       "       'Stones,MetalGrates,RootOther', 'Stones,Sneakers',\n",
       "       'Stones,TrunkLights,BranchOther',\n",
       "       'Stones,RootOther,BranchLights,BranchOther', 'Sneakers',\n",
       "       'Stones,RootOther,Sneakers', 'MetalGrates,TrunkOther,BranchLights',\n",
       "       'MetalGrates,TrunkLights,BranchLights',\n",
       "       'WiresRope,TrunkOther,BranchLights,Sneakers',\n",
       "       'MetalGrates,RootOther,BranchOther', 'Stones,RootOther,WiresRope',\n",
       "       'Stones,WiresRope,BranchLights,Sneakers',\n",
       "       'WiresRope,TrunkOther,BranchLights',\n",
       "       'Stones,RootOther,WiresRope,TrunkOther,BranchLights',\n",
       "       'Stones,RootOther,WiresRope,BranchLights,BranchOther',\n",
       "       'RootOther,WiresRope,BranchLights,BranchOther',\n",
       "       'Stones,MetalGrates,TrunkOther',\n",
       "       'RootOther,TrunkLights,TrunkOther,BranchLights,BranchOther',\n",
       "       'MetalGrates,Sneakers',\n",
       "       'Stones,RootOther,WiresRope,TrunkOther,BranchOther',\n",
       "       'Stones,WiresRope,TrunkOther,BranchLights,BranchOther',\n",
       "       'MetalGrates,RootOther,WiresRope,TrunkLights,BranchLights,BranchOther',\n",
       "       'Stones,WiresRope,TrunkOther,BranchOther',\n",
       "       'MetalGrates,RootOther,WiresRope,BranchOther',\n",
       "       'MetalGrates,WiresRope,TrunkLights,BranchLights,BranchOther',\n",
       "       'TrunkLights,TrunkOther,BranchLights', 'WiresRope,Sneakers',\n",
       "       'RootOther,WiresRope,TrunkLights,BranchOther',\n",
       "       'MetalGrates,RootOther,BranchLights',\n",
       "       'Stones,MetalGrates,BranchLights', 'Stones,RootOther,TrunkLights',\n",
       "       'Sneakers,BranchOther', 'Stones,RootOther,TrunkOther,Sneakers',\n",
       "       'Stones,WiresRope,TrunkLights,BranchLights',\n",
       "       'Stones,BranchLights,Sneakers',\n",
       "       'BranchLights,Sneakers,BranchOther',\n",
       "       'MetalGrates,RootOther,TrunkLights,BranchLights',\n",
       "       'Stones,RootOther,BranchLights,Sneakers',\n",
       "       'Stones,TrunkLights,TrunkOther,BranchLights',\n",
       "       'RootOther,TrunkLights', 'TrunkLights,Sneakers',\n",
       "       'TrunkLights,BranchLights,BranchOther',\n",
       "       'Stones,MetalGrates,RootOther,BranchOther',\n",
       "       'Stones,RootOther,WiresRope,TrunkLights',\n",
       "       'Stones,RootOther,WiresRope,TrunkLights,BranchOther',\n",
       "       'RootOther,TrunkLights,TrunkOther,BranchLights',\n",
       "       'RootOther,WiresRope,TrunkLights',\n",
       "       'TrunkLights,TrunkOther,BranchLights,BranchOther',\n",
       "       'Stones,MetalGrates,WiresRope,TrunkLights,BranchLights',\n",
       "       'Stones,MetalGrates,TrunkOther,BranchOther',\n",
       "       'Stones,TrunkOther,Sneakers', 'Stones,MetalGrates,WiresRope',\n",
       "       'Stones,MetalGrates,RootOther,TrunkOther',\n",
       "       'Stones,RootOther,TrunkLights,TrunkOther,BranchLights',\n",
       "       'TrunkOther,BranchLights,Sneakers,BranchOther',\n",
       "       'Stones,Sneakers,BranchOther',\n",
       "       'RootOther,WiresRope,TrunkLights,TrunkOther,BranchLights',\n",
       "       'MetalGrates,RootOther,TrunkOther,BranchLights',\n",
       "       'WiresRope,TrunkLights,TrunkOther,BranchLights',\n",
       "       'Stones,MetalGrates,TrunkOther,BranchLights',\n",
       "       'Stones,TrunkLights,TrunkOther,BranchOther',\n",
       "       'Stones,TrunkLights,TrunkOther',\n",
       "       'MetalGrates,WiresRope,BranchLights',\n",
       "       'RootOther,WiresRope,TrunkLights,TrunkOther,BranchLights,BranchOther',\n",
       "       'Stones,MetalGrates,BranchOther',\n",
       "       'Stones,MetalGrates,RootOther,TrunkOther,BranchOther',\n",
       "       'RootOther,WiresRope,TrunkLights,BranchLights'], dtype=object)"
      ]
     },
     "execution_count": 194,
     "metadata": {},
     "output_type": "execute_result"
    }
   ],
   "source": [
    "#Dealing with NaN in the problems column (if there is a fence around the tree)\n",
    "df_copy[\"problems\"].unique()\n",
    "\n"
   ]
  },
  {
   "cell_type": "code",
   "execution_count": 195,
   "id": "b2e1c02b",
   "metadata": {},
   "outputs": [
    {
     "data": {
      "text/plain": [
       "array(['None', '1or2', '3or4', nan, '4orMore'], dtype=object)"
      ]
     },
     "execution_count": 195,
     "metadata": {},
     "output_type": "execute_result"
    }
   ],
   "source": [
    "#Dealing with NaN in the steward column (if there is a fence around the tree)\n",
    "df_copy[\"steward\"].unique()"
   ]
  },
  {
   "cell_type": "code",
   "execution_count": 196,
   "id": "9d71e5d0",
   "metadata": {},
   "outputs": [
    {
     "data": {
      "text/html": [
       "<div>\n",
       "<style scoped>\n",
       "    .dataframe tbody tr th:only-of-type {\n",
       "        vertical-align: middle;\n",
       "    }\n",
       "\n",
       "    .dataframe tbody tr th {\n",
       "        vertical-align: top;\n",
       "    }\n",
       "\n",
       "    .dataframe thead th {\n",
       "        text-align: right;\n",
       "    }\n",
       "</style>\n",
       "<table border=\"1\" class=\"dataframe\">\n",
       "  <thead>\n",
       "    <tr style=\"text-align: right;\">\n",
       "      <th></th>\n",
       "      <th>created_at</th>\n",
       "      <th>tree_id</th>\n",
       "      <th>block_id</th>\n",
       "      <th>the_geom</th>\n",
       "      <th>tree_dbh</th>\n",
       "      <th>stump_diam</th>\n",
       "      <th>curb_loc</th>\n",
       "      <th>status</th>\n",
       "      <th>health</th>\n",
       "      <th>spc_latin</th>\n",
       "      <th>...</th>\n",
       "      <th>st_assem</th>\n",
       "      <th>st_senate</th>\n",
       "      <th>nta</th>\n",
       "      <th>nta_name</th>\n",
       "      <th>boro_ct</th>\n",
       "      <th>state</th>\n",
       "      <th>latitude</th>\n",
       "      <th>longitude</th>\n",
       "      <th>x_sp</th>\n",
       "      <th>y_sp</th>\n",
       "    </tr>\n",
       "  </thead>\n",
       "  <tbody>\n",
       "    <tr>\n",
       "      <th>0</th>\n",
       "      <td>2015-08-27</td>\n",
       "      <td>180683</td>\n",
       "      <td>348711</td>\n",
       "      <td>POINT (-73.84421521958048 40.723091773924274)</td>\n",
       "      <td>3</td>\n",
       "      <td>0</td>\n",
       "      <td>OnCurb</td>\n",
       "      <td>Alive</td>\n",
       "      <td>Fair</td>\n",
       "      <td>Acer rubrum</td>\n",
       "      <td>...</td>\n",
       "      <td>28</td>\n",
       "      <td>16</td>\n",
       "      <td>QN17</td>\n",
       "      <td>Forest Hills</td>\n",
       "      <td>4073900</td>\n",
       "      <td>New York</td>\n",
       "      <td>40.723092</td>\n",
       "      <td>-73.844215</td>\n",
       "      <td>1.027431e+06</td>\n",
       "      <td>202756.768749</td>\n",
       "    </tr>\n",
       "    <tr>\n",
       "      <th>1</th>\n",
       "      <td>2015-09-03</td>\n",
       "      <td>200540</td>\n",
       "      <td>315986</td>\n",
       "      <td>POINT (-73.81867945834878 40.79411066708779)</td>\n",
       "      <td>21</td>\n",
       "      <td>0</td>\n",
       "      <td>OnCurb</td>\n",
       "      <td>Alive</td>\n",
       "      <td>Fair</td>\n",
       "      <td>Quercus palustris</td>\n",
       "      <td>...</td>\n",
       "      <td>27</td>\n",
       "      <td>11</td>\n",
       "      <td>QN49</td>\n",
       "      <td>Whitestone</td>\n",
       "      <td>4097300</td>\n",
       "      <td>New York</td>\n",
       "      <td>40.794111</td>\n",
       "      <td>-73.818679</td>\n",
       "      <td>1.034456e+06</td>\n",
       "      <td>228644.837379</td>\n",
       "    </tr>\n",
       "    <tr>\n",
       "      <th>2</th>\n",
       "      <td>2015-09-05</td>\n",
       "      <td>204026</td>\n",
       "      <td>218365</td>\n",
       "      <td>POINT (-73.93660770459083 40.717580740099116)</td>\n",
       "      <td>3</td>\n",
       "      <td>0</td>\n",
       "      <td>OnCurb</td>\n",
       "      <td>Alive</td>\n",
       "      <td>Good</td>\n",
       "      <td>Gleditsia triacanthos var. inermis</td>\n",
       "      <td>...</td>\n",
       "      <td>50</td>\n",
       "      <td>18</td>\n",
       "      <td>BK90</td>\n",
       "      <td>East Williamsburg</td>\n",
       "      <td>3044900</td>\n",
       "      <td>New York</td>\n",
       "      <td>40.717581</td>\n",
       "      <td>-73.936608</td>\n",
       "      <td>1.001823e+06</td>\n",
       "      <td>200716.891267</td>\n",
       "    </tr>\n",
       "    <tr>\n",
       "      <th>3</th>\n",
       "      <td>2015-09-05</td>\n",
       "      <td>204337</td>\n",
       "      <td>217969</td>\n",
       "      <td>POINT (-73.93445615919741 40.713537494833226)</td>\n",
       "      <td>10</td>\n",
       "      <td>0</td>\n",
       "      <td>OnCurb</td>\n",
       "      <td>Alive</td>\n",
       "      <td>Good</td>\n",
       "      <td>Gleditsia triacanthos var. inermis</td>\n",
       "      <td>...</td>\n",
       "      <td>53</td>\n",
       "      <td>18</td>\n",
       "      <td>BK90</td>\n",
       "      <td>East Williamsburg</td>\n",
       "      <td>3044900</td>\n",
       "      <td>New York</td>\n",
       "      <td>40.713537</td>\n",
       "      <td>-73.934456</td>\n",
       "      <td>1.002420e+06</td>\n",
       "      <td>199244.253136</td>\n",
       "    </tr>\n",
       "    <tr>\n",
       "      <th>4</th>\n",
       "      <td>2015-08-30</td>\n",
       "      <td>189565</td>\n",
       "      <td>223043</td>\n",
       "      <td>POINT (-73.97597938483258 40.66677775537875)</td>\n",
       "      <td>21</td>\n",
       "      <td>0</td>\n",
       "      <td>OnCurb</td>\n",
       "      <td>Alive</td>\n",
       "      <td>Good</td>\n",
       "      <td>Tilia americana</td>\n",
       "      <td>...</td>\n",
       "      <td>44</td>\n",
       "      <td>21</td>\n",
       "      <td>BK37</td>\n",
       "      <td>Park Slope-Gowanus</td>\n",
       "      <td>3016500</td>\n",
       "      <td>New York</td>\n",
       "      <td>40.666778</td>\n",
       "      <td>-73.975979</td>\n",
       "      <td>9.909138e+05</td>\n",
       "      <td>182202.425999</td>\n",
       "    </tr>\n",
       "  </tbody>\n",
       "</table>\n",
       "<p>5 rows × 42 columns</p>\n",
       "</div>"
      ],
      "text/plain": [
       "  created_at  tree_id  block_id  \\\n",
       "0 2015-08-27   180683    348711   \n",
       "1 2015-09-03   200540    315986   \n",
       "2 2015-09-05   204026    218365   \n",
       "3 2015-09-05   204337    217969   \n",
       "4 2015-08-30   189565    223043   \n",
       "\n",
       "                                        the_geom  tree_dbh  stump_diam  \\\n",
       "0  POINT (-73.84421521958048 40.723091773924274)         3           0   \n",
       "1   POINT (-73.81867945834878 40.79411066708779)        21           0   \n",
       "2  POINT (-73.93660770459083 40.717580740099116)         3           0   \n",
       "3  POINT (-73.93445615919741 40.713537494833226)        10           0   \n",
       "4   POINT (-73.97597938483258 40.66677775537875)        21           0   \n",
       "\n",
       "  curb_loc status health                           spc_latin  ... st_assem  \\\n",
       "0   OnCurb  Alive   Fair                         Acer rubrum  ...       28   \n",
       "1   OnCurb  Alive   Fair                   Quercus palustris  ...       27   \n",
       "2   OnCurb  Alive   Good  Gleditsia triacanthos var. inermis  ...       50   \n",
       "3   OnCurb  Alive   Good  Gleditsia triacanthos var. inermis  ...       53   \n",
       "4   OnCurb  Alive   Good                     Tilia americana  ...       44   \n",
       "\n",
       "  st_senate   nta            nta_name  boro_ct     state   latitude  \\\n",
       "0        16  QN17        Forest Hills  4073900  New York  40.723092   \n",
       "1        11  QN49          Whitestone  4097300  New York  40.794111   \n",
       "2        18  BK90   East Williamsburg  3044900  New York  40.717581   \n",
       "3        18  BK90   East Williamsburg  3044900  New York  40.713537   \n",
       "4        21  BK37  Park Slope-Gowanus  3016500  New York  40.666778   \n",
       "\n",
       "   longitude          x_sp           y_sp  \n",
       "0 -73.844215  1.027431e+06  202756.768749  \n",
       "1 -73.818679  1.034456e+06  228644.837379  \n",
       "2 -73.936608  1.001823e+06  200716.891267  \n",
       "3 -73.934456  1.002420e+06  199244.253136  \n",
       "4 -73.975979  9.909138e+05  182202.425999  \n",
       "\n",
       "[5 rows x 42 columns]"
      ]
     },
     "execution_count": 196,
     "metadata": {},
     "output_type": "execute_result"
    }
   ],
   "source": [
    "df_copy.head()"
   ]
  },
  {
   "cell_type": "code",
   "execution_count": 197,
   "id": "d527cebf",
   "metadata": {},
   "outputs": [
    {
     "data": {
      "text/plain": [
       "['created_at',\n",
       " 'tree_id',\n",
       " 'block_id',\n",
       " 'the_geom',\n",
       " 'tree_dbh',\n",
       " 'stump_diam',\n",
       " 'curb_loc',\n",
       " 'status',\n",
       " 'health',\n",
       " 'spc_latin',\n",
       " 'steward',\n",
       " 'guards',\n",
       " 'sidewalk',\n",
       " 'user_type',\n",
       " 'problems',\n",
       " 'root_stone',\n",
       " 'root_grate',\n",
       " 'root_other',\n",
       " 'trnk_wire',\n",
       " 'trnk_light',\n",
       " 'trnk_other',\n",
       " 'brnch_ligh',\n",
       " 'brnch_shoe',\n",
       " 'brnch_othe',\n",
       " 'address',\n",
       " 'zipcode',\n",
       " 'zip_city',\n",
       " 'cb_num',\n",
       " 'borocode',\n",
       " 'boroname',\n",
       " 'cncldist',\n",
       " 'st_assem',\n",
       " 'st_senate',\n",
       " 'nta',\n",
       " 'nta_name',\n",
       " 'boro_ct',\n",
       " 'state',\n",
       " 'latitude',\n",
       " 'longitude',\n",
       " 'x_sp',\n",
       " 'y_sp']"
      ]
     },
     "execution_count": 197,
     "metadata": {},
     "output_type": "execute_result"
    }
   ],
   "source": [
    "#dropping the column with common name. This is better option, because the the scientific name is always the same,\n",
    "#contrary to the common name.\n",
    "df_copy = df_copy.drop('spc_common', 1)\n",
    "df_copy.columns.tolist()"
   ]
  },
  {
   "cell_type": "code",
   "execution_count": 198,
   "id": "351a6f33",
   "metadata": {},
   "outputs": [
    {
     "data": {
      "text/plain": [
       "['created_at',\n",
       " 'tree_id',\n",
       " 'block_id',\n",
       " 'tree_dbh',\n",
       " 'stump_diam',\n",
       " 'curb_loc',\n",
       " 'status',\n",
       " 'health',\n",
       " 'spc_latin',\n",
       " 'steward',\n",
       " 'guards',\n",
       " 'sidewalk',\n",
       " 'user_type',\n",
       " 'problems',\n",
       " 'root_stone',\n",
       " 'root_grate',\n",
       " 'root_other',\n",
       " 'trnk_wire',\n",
       " 'trnk_light',\n",
       " 'trnk_other',\n",
       " 'brnch_ligh',\n",
       " 'brnch_shoe',\n",
       " 'brnch_othe',\n",
       " 'address',\n",
       " 'zipcode',\n",
       " 'zip_city',\n",
       " 'cb_num',\n",
       " 'borocode',\n",
       " 'boroname',\n",
       " 'cncldist',\n",
       " 'st_assem',\n",
       " 'st_senate',\n",
       " 'nta',\n",
       " 'nta_name',\n",
       " 'boro_ct',\n",
       " 'state',\n",
       " 'latitude',\n",
       " 'longitude',\n",
       " 'x_sp',\n",
       " 'y_sp']"
      ]
     },
     "execution_count": 198,
     "metadata": {},
     "output_type": "execute_result"
    }
   ],
   "source": [
    "#dropping the column with the_geom. This is better option, because I believe for machine interpretation, \n",
    "#it is better to have the lattitute and longitute separated\n",
    "df_copy = df_copy.drop('the_geom', 1)\n",
    "df_copy.columns.tolist()"
   ]
  },
  {
   "cell_type": "code",
   "execution_count": 199,
   "id": "d36f846f",
   "metadata": {},
   "outputs": [
    {
     "data": {
      "text/plain": [
       "status\n",
       "Alive    95008\n",
       "Stump     2831\n",
       "Dead      2161\n",
       "dtype: int64"
      ]
     },
     "execution_count": 199,
     "metadata": {},
     "output_type": "execute_result"
    }
   ],
   "source": [
    "#lookig into detail over my data:\n",
    "df_copy.value_counts(\"status\")"
   ]
  },
  {
   "cell_type": "code",
   "execution_count": 200,
   "id": "553b9531",
   "metadata": {},
   "outputs": [
    {
     "data": {
      "text/plain": [
       "tree_dbh\n",
       "425       1\n",
       "52        1\n",
       "55        1\n",
       "56        1\n",
       "60        1\n",
       "       ... \n",
       "2      5484\n",
       "11     5794\n",
       "5      5921\n",
       "3      7473\n",
       "4      8389\n",
       "Length: 77, dtype: int64"
      ]
     },
     "execution_count": 200,
     "metadata": {},
     "output_type": "execute_result"
    }
   ],
   "source": [
    "#lookig into detail over my data:\n",
    "df_copy.value_counts(\"tree_dbh\", ascending=True)\n"
   ]
  },
  {
   "cell_type": "code",
   "execution_count": 201,
   "id": "92d04ea3",
   "metadata": {},
   "outputs": [
    {
     "data": {
      "text/plain": [
       "stump_diam\n",
       "140        1\n",
       "43         1\n",
       "49         1\n",
       "55         1\n",
       "57         1\n",
       "       ...  \n",
       "6        127\n",
       "4        133\n",
       "12       136\n",
       "5        145\n",
       "0      97169\n",
       "Length: 75, dtype: int64"
      ]
     },
     "execution_count": 201,
     "metadata": {},
     "output_type": "execute_result"
    }
   ],
   "source": [
    "#lookig into detail over my data:\n",
    "df_copy.value_counts(\"stump_diam\", ascending=True)"
   ]
  },
  {
   "cell_type": "code",
   "execution_count": 202,
   "id": "3ad90d2f",
   "metadata": {},
   "outputs": [],
   "source": [
    "#conditions = [\n",
    "#    (df_copy['stump_diam'] == '0') & (df_copy['status'] == 'Alive'),\n",
    "#    (df_copy['stump_diam'] == '0') & (df_copy['status'] == 'Dead')]\n",
    "#output = ['None', 'None']\n",
    "#df_copy['stump_diam'] = np.select(conditions, output)\n",
    "#df_copy.value_counts(\"stump_diam\", ascending=True)"
   ]
  },
  {
   "cell_type": "code",
   "execution_count": 203,
   "id": "1843b792",
   "metadata": {},
   "outputs": [
    {
     "data": {
      "text/plain": [
       "health\n",
       "Poor     5401\n",
       "Fair    17266\n",
       "Good    72340\n",
       "dtype: int64"
      ]
     },
     "execution_count": 203,
     "metadata": {},
     "output_type": "execute_result"
    }
   ],
   "source": [
    "#lookig into detail over my data:\n",
    "df_copy.value_counts(\"health\", ascending=True)"
   ]
  },
  {
   "cell_type": "code",
   "execution_count": 204,
   "id": "af042713",
   "metadata": {},
   "outputs": [
    {
     "data": {
      "text/plain": [
       "steward\n",
       "4orMore      342\n",
       "3or4        4500\n",
       "1or2       24170\n",
       "None       65996\n",
       "dtype: int64"
      ]
     },
     "execution_count": 204,
     "metadata": {},
     "output_type": "execute_result"
    }
   ],
   "source": [
    "#lookig into detail over my data:\n",
    "df_copy.value_counts(\"steward\", ascending=True)"
   ]
  },
  {
   "cell_type": "code",
   "execution_count": 219,
   "id": "cab290a5",
   "metadata": {},
   "outputs": [],
   "source": [
    "#lookig into detail over my data:\n",
    "df_copy.problems.unique() \n",
    "#fiding redundancy with the next columns. So will delete it:\n",
    "df_copy = df_copy.drop('problems', 1)"
   ]
  },
  {
   "cell_type": "code",
   "execution_count": 214,
   "id": "16a6fc90",
   "metadata": {},
   "outputs": [
    {
     "data": {
      "text/plain": [
       "array([False,  True])"
      ]
     },
     "execution_count": 214,
     "metadata": {},
     "output_type": "execute_result"
    }
   ],
   "source": [
    "#Replacing Yes and no for bolean values\n",
    "df_copy.root_stone.unique() \n",
    "df_copy['root_stone'] = df_copy['root_stone'].replace(['No'], False)\n",
    "df_copy['root_stone'] = df_copy['root_stone'].replace(['Yes'],True)\n",
    "df_copy.root_stone.unique() \n"
   ]
  },
  {
   "cell_type": "code",
   "execution_count": 216,
   "id": "c351553f",
   "metadata": {},
   "outputs": [
    {
     "data": {
      "text/plain": [
       "array([False,  True])"
      ]
     },
     "execution_count": 216,
     "metadata": {},
     "output_type": "execute_result"
    }
   ],
   "source": [
    "#Replacing Yes and no for bolean values\n",
    "df_copy.root_grate.unique()\n",
    "df_copy['root_grate'] = df_copy['root_grate'].replace(['No'], False)\n",
    "df_copy['root_grate'] = df_copy['root_grate'].replace(['Yes'],True)\n",
    "df_copy.root_grate.unique() "
   ]
  },
  {
   "cell_type": "code",
   "execution_count": 217,
   "id": "73d6b3cf",
   "metadata": {},
   "outputs": [
    {
     "data": {
      "text/plain": [
       "array([False,  True])"
      ]
     },
     "execution_count": 217,
     "metadata": {},
     "output_type": "execute_result"
    }
   ],
   "source": [
    "#Replacing Yes and no for bolean values\n",
    "df_copy.root_other.unique()\n",
    "df_copy['root_other'] = df_copy['root_other'].replace(['No'], False)\n",
    "df_copy['root_other'] = df_copy['root_other'].replace(['Yes'],True)\n",
    "df_copy.root_grate.unique() "
   ]
  },
  {
   "cell_type": "code",
   "execution_count": 294,
   "id": "38cb31e8",
   "metadata": {},
   "outputs": [
    {
     "data": {
      "text/plain": [
       "array([False,  True])"
      ]
     },
     "execution_count": 294,
     "metadata": {},
     "output_type": "execute_result"
    }
   ],
   "source": [
    "#Replacing Yes and no for bolean values\n",
    "df_copy.trnk_wire.unique()\n",
    "df_copy['trnk_wire'] = df_copy['trnk_wire'].replace(['No'], False)\n",
    "df_copy['trnk_wire'] = df_copy['trnk_wire'].replace(['Yes'],True)\n",
    "df_copy.trnk_wire.unique() "
   ]
  },
  {
   "cell_type": "code",
   "execution_count": 295,
   "id": "60ddb2f6",
   "metadata": {},
   "outputs": [
    {
     "data": {
      "text/plain": [
       "array([False,  True])"
      ]
     },
     "execution_count": 295,
     "metadata": {},
     "output_type": "execute_result"
    }
   ],
   "source": [
    "#Replacing Yes and no for bolean values\n",
    "df_copy.trnk_other.unique()\n",
    "df_copy['trnk_other'] = df_copy['trnk_other'].replace(['No'], False)\n",
    "df_copy['trnk_other'] = df_copy['trnk_other'].replace(['Yes'],True)\n",
    "df_copy.trnk_other.unique() "
   ]
  },
  {
   "cell_type": "code",
   "execution_count": 223,
   "id": "ef59f5ba",
   "metadata": {},
   "outputs": [
    {
     "data": {
      "text/plain": [
       "array([False,  True])"
      ]
     },
     "execution_count": 223,
     "metadata": {},
     "output_type": "execute_result"
    }
   ],
   "source": [
    "#Replacing Yes and no for bolean values\n",
    "df_copy.trnk_light.unique()\n",
    "df_copy['trnk_light'] = df_copy['trnk_light'].replace(['No'], False)\n",
    "df_copy['trnk_light'] = df_copy['trnk_light'].replace(['Yes'],True)\n",
    "df_copy.trnk_light.unique() "
   ]
  },
  {
   "cell_type": "code",
   "execution_count": 225,
   "id": "cadaf9b0",
   "metadata": {},
   "outputs": [
    {
     "data": {
      "text/plain": [
       "array([False,  True])"
      ]
     },
     "execution_count": 225,
     "metadata": {},
     "output_type": "execute_result"
    }
   ],
   "source": [
    "#Replacing Yes and no for bolean values\n",
    "df_copy.brnch_ligh.unique()\n",
    "df_copy['brnch_ligh'] = df_copy['brnch_ligh'].replace(['No'], False)\n",
    "df_copy['brnch_ligh'] = df_copy['brnch_ligh'].replace(['Yes'],True)\n",
    "df_copy.trnk_light.unique() "
   ]
  },
  {
   "cell_type": "code",
   "execution_count": 228,
   "id": "7bbaf830",
   "metadata": {},
   "outputs": [
    {
     "data": {
      "text/plain": [
       "array([False,  True])"
      ]
     },
     "execution_count": 228,
     "metadata": {},
     "output_type": "execute_result"
    }
   ],
   "source": [
    "#Replacing Yes and no for bolean values\n",
    "df_copy.brnch_shoe.unique()\n",
    "df_copy['brnch_shoe'] = df_copy['brnch_shoe'].replace(['No'], False)\n",
    "df_copy['brnch_shoe'] = df_copy['brnch_shoe'].replace(['Yes'],True)\n",
    "df_copy.trnk_light.unique() "
   ]
  },
  {
   "cell_type": "code",
   "execution_count": 230,
   "id": "44a8f1ce",
   "metadata": {},
   "outputs": [
    {
     "data": {
      "text/plain": [
       "array([False,  True])"
      ]
     },
     "execution_count": 230,
     "metadata": {},
     "output_type": "execute_result"
    }
   ],
   "source": [
    "#Replacing Yes and no for bolean values\n",
    "df_copy.brnch_othe.unique()\n",
    "df_copy['brnch_othe'] = df_copy['brnch_othe'].replace(['No'], False)\n",
    "df_copy['brnch_othe'] = df_copy['brnch_othe'].replace(['Yes'],True)\n",
    "df_copy.brnch_othe.unique() "
   ]
  },
  {
   "cell_type": "code",
   "execution_count": 266,
   "id": "a8743e8c",
   "metadata": {},
   "outputs": [
    {
     "data": {
      "text/plain": [
       "dtype('int32')"
      ]
     },
     "execution_count": 266,
     "metadata": {},
     "output_type": "execute_result"
    }
   ],
   "source": [
    "#data redudancy. Keeping only the borocode and changing it for a str type\n",
    "df_copy.borocode.value_counts()\n",
    "#df_copy.boroname.value_counts()\n",
    "#df_copy = df_copy.drop('boroname', 1)\n",
    "df_copy[\"borocode\"] = df_copy[\"borocode\"].astype(int)\n",
    "df_copy.borocode.dtypes"
   ]
  },
  {
   "cell_type": "code",
   "execution_count": 267,
   "id": "492ef467",
   "metadata": {},
   "outputs": [
    {
     "data": {
      "text/plain": [
       "dtype('int32')"
      ]
     },
     "execution_count": 267,
     "metadata": {},
     "output_type": "execute_result"
    }
   ],
   "source": [
    "#df_copy.zipcode.value_counts() - change data type\n",
    "#df_copy.zip_city.value_counts() - to drop; data redundancy\n",
    "df_copy[\"zipcode\"] = df_copy[\"zipcode\"].astype(int)\n",
    "df_copy.borocode.dtypes\n",
    "#df_copy = df_copy.drop('zip_city', 1)"
   ]
  },
  {
   "cell_type": "code",
   "execution_count": 268,
   "id": "c35a4bae",
   "metadata": {},
   "outputs": [
    {
     "data": {
      "text/plain": [
       "dtype('int32')"
      ]
     },
     "execution_count": 268,
     "metadata": {},
     "output_type": "execute_result"
    }
   ],
   "source": [
    "#changing the data type from the cd_num\n",
    "df_copy.cb_num.dtypes\n",
    "df_copy[\"cb_num\"] = df_copy[\"cb_num\"].astype(int)\n",
    "df_copy.cb_num.dtypes"
   ]
  },
  {
   "cell_type": "code",
   "execution_count": 271,
   "id": "a380f34d",
   "metadata": {},
   "outputs": [
    {
     "data": {
      "text/plain": [
       "dtype('float64')"
      ]
     },
     "execution_count": 271,
     "metadata": {},
     "output_type": "execute_result"
    }
   ],
   "source": [
    "#df_copy.address.value_counts() - drop it?\n",
    "df_copy.latitude.value_counts()\n",
    "#df_copy.longitude.unique()\n",
    "#df_copy.x_sp.unique()\n",
    "#df_copy.y_sp.unique()\n",
    "df_copy[\"latitude\"] = df_copy[\"latitude\"].astype(float)\n",
    "df_copy.latitude.dtypes\n",
    "df_copy[\"longitude\"] = df_copy[\"longitude\"].astype(float)\n",
    "df_copy.longitude.dtypes"
   ]
  },
  {
   "cell_type": "code",
   "execution_count": 272,
   "id": "d5402f32",
   "metadata": {},
   "outputs": [],
   "source": [
    "#dropping x_sp and y_sp - they are locations again\n",
    "df_copy = df_copy.drop('x_sp', 1)\n",
    "df_copy = df_copy.drop('y_sp', 1)"
   ]
  },
  {
   "cell_type": "code",
   "execution_count": 277,
   "id": "2e80bcb7",
   "metadata": {},
   "outputs": [],
   "source": [
    "#dropping nta and nta_name - they are locations again\n",
    "df_copy = df_copy.drop('nta', 1)\n",
    "df_copy = df_copy.drop('nta_name', 1)\n"
   ]
  },
  {
   "cell_type": "code",
   "execution_count": 286,
   "id": "cd1c7d89",
   "metadata": {},
   "outputs": [],
   "source": [
    "#dropping cncldist, st_assem, st_senate and adress- they are locations again\n",
    "#df_copy = df_copy.drop('cncldist', 1)\n",
    "#df_copy = df_copy.drop('st_assem', 1)\n",
    "#df_copy = df_copy.drop('st_senate', 1)\n",
    "df_copy = df_copy.drop('address', 1)"
   ]
  },
  {
   "cell_type": "code",
   "execution_count": 289,
   "id": "b1d6ca36",
   "metadata": {},
   "outputs": [],
   "source": [
    "#dropping boro_ct- they are locations again\n",
    "df_copy.boro_ct.value_counts()\n",
    "df_copy = df_copy.drop('boro_ct', 1)"
   ]
  },
  {
   "cell_type": "code",
   "execution_count": 292,
   "id": "aa590b0f",
   "metadata": {},
   "outputs": [
    {
     "data": {
      "text/plain": [
       "(100000, 28)"
      ]
     },
     "execution_count": 292,
     "metadata": {},
     "output_type": "execute_result"
    }
   ],
   "source": [
    "df_copy.shape"
   ]
  },
  {
   "cell_type": "code",
   "execution_count": 296,
   "id": "25184691",
   "metadata": {},
   "outputs": [
    {
     "data": {
      "text/plain": [
       "created_at    datetime64[ns]\n",
       "tree_id                int64\n",
       "block_id               int64\n",
       "tree_dbh               int64\n",
       "stump_diam             int64\n",
       "curb_loc              object\n",
       "status                object\n",
       "health                object\n",
       "spc_latin             object\n",
       "steward               object\n",
       "guards                object\n",
       "sidewalk              object\n",
       "user_type             object\n",
       "root_stone              bool\n",
       "root_grate              bool\n",
       "root_other              bool\n",
       "trnk_wire               bool\n",
       "trnk_light              bool\n",
       "trnk_other              bool\n",
       "brnch_ligh              bool\n",
       "brnch_shoe              bool\n",
       "brnch_othe              bool\n",
       "zipcode                int32\n",
       "cb_num                 int32\n",
       "borocode               int32\n",
       "state                 object\n",
       "latitude             float64\n",
       "longitude            float64\n",
       "dtype: object"
      ]
     },
     "execution_count": 296,
     "metadata": {},
     "output_type": "execute_result"
    }
   ],
   "source": [
    "df_copy.dtypes"
   ]
  },
  {
   "cell_type": "code",
   "execution_count": 298,
   "id": "5b6bc4fc",
   "metadata": {},
   "outputs": [
    {
     "data": {
      "image/png": "[encoded data removed]",
      "text/plain": [
       "<Figure size 432x288 with 1 Axes>"
      ]
     },
     "metadata": {},
     "output_type": "display_data"
    }
   ],
   "source": [
    "#Showing outliers in the tree diameter\n",
    "sns.set_theme(style=\"whitegrid\")\n",
    "strip_plot = sns.stripplot(x='tree_dbh',data=df_copy)"
   ]
  },
  {
   "cell_type": "code",
   "execution_count": 299,
   "id": "5c3e252f",
   "metadata": {},
   "outputs": [],
   "source": [
    "df_copy = df_copy[df_copy.tree_dbh < 400]"
   ]
  },
  {
   "cell_type": "code",
   "execution_count": 301,
   "id": "07f9a084",
   "metadata": {},
   "outputs": [],
   "source": [
    "#dropping the tree id and block_id - for machine learning will have no impact\n",
    "df_copy = df_copy.drop('tree_id', 1)\n",
    "df_copy = df_copy.drop('block_id', 1)"
   ]
  },
  {
   "cell_type": "code",
   "execution_count": 302,
   "id": "d9b7d7f3",
   "metadata": {},
   "outputs": [
    {
     "data": {
      "text/plain": [
       "['created_at',\n",
       " 'tree_dbh',\n",
       " 'stump_diam',\n",
       " 'curb_loc',\n",
       " 'status',\n",
       " 'health',\n",
       " 'spc_latin',\n",
       " 'steward',\n",
       " 'guards',\n",
       " 'sidewalk',\n",
       " 'user_type',\n",
       " 'root_stone',\n",
       " 'root_grate',\n",
       " 'root_other',\n",
       " 'trnk_wire',\n",
       " 'trnk_light',\n",
       " 'trnk_other',\n",
       " 'brnch_ligh',\n",
       " 'brnch_shoe',\n",
       " 'brnch_othe',\n",
       " 'zipcode',\n",
       " 'cb_num',\n",
       " 'borocode',\n",
       " 'state',\n",
       " 'latitude',\n",
       " 'longitude']"
      ]
     },
     "execution_count": 302,
     "metadata": {},
     "output_type": "execute_result"
    }
   ],
   "source": [
    "df_copy.columns.tolist()"
   ]
  },
  {
   "cell_type": "code",
   "execution_count": 304,
   "id": "6035e1dd",
   "metadata": {},
   "outputs": [],
   "source": [
    "df.to_csv('nyc_data_cleaning.csv', index=False)"
   ]
  },
  {
   "cell_type": "code",
   "execution_count": null,
   "id": "a73928cb",
   "metadata": {},
   "outputs": [],
   "source": []
  }
 ],
 "metadata": {
  "kernelspec": {
   "display_name": "Python 3",
   "language": "python",
   "name": "python3"
  },
  "language_info": {
   "codemirror_mode": {
    "name": "ipython",
    "version": 3
   },
   "file_extension": ".py",
   "mimetype": "text/x-python",
   "name": "python",
   "nbconvert_exporter": "python",
   "pygments_lexer": "ipython3",
   "version": "3.8.8"
  }
 },
 "nbformat": 4,
 "nbformat_minor": 5
}
